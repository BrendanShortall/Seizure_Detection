{
 "cells": [
  {
   "cell_type": "code",
   "execution_count": 1,
   "metadata": {},
   "outputs": [],
   "source": [
    "import pandas as pd\n",
    "import numpy as np\n",
    "import sklearn\n",
    "from sklearn.model_selection import train_test_split\n",
    "import tensorflow as tf\n",
    "from tensorflow import keras\n",
    "\n",
    "#USE SKIKIT LEARN"
   ]
  },
  {
   "cell_type": "code",
   "execution_count": 25,
   "metadata": {},
   "outputs": [],
   "source": [
    "#data = nXd\n",
    "\n",
    "#Import data and labels\n",
    "data = pd.read_csv(r'C:\\Users\\shortallb\\Documents\\GitHub\\Seizure_Detection\\data.csv', header=None).to_numpy()\n",
    "labels = pd.read_csv(r'C:\\Users\\shortallb\\Documents\\GitHub\\Seizure_Detection\\labels.csv', header=None).to_numpy()\n",
    "#Trim off col and row labels\n",
    "data = np.delete(data,0,axis=0)\n",
    "data = np.delete(data,0,axis=1)\n",
    "labels = np.delete(labels,0,axis=1)\n",
    "labels = np.delete(labels,0,axis=0)\n",
    "RANDOM_STATE=34\n",
    "X_train, X_test, Y_train, Y_test = train_test_split(data, labels, test_size=.2, random_state=RANDOM_STATE)\n"
   ]
  },
  {
   "cell_type": "code",
   "execution_count": 26,
   "metadata": {},
   "outputs": [
    {
     "name": "stdout",
     "output_type": "stream",
     "text": [
      "Accuracy:  100.0 %\n",
      "Confusion matrix:\n",
      " [[166   0]\n",
      " [  0 374]]\n"
     ]
    },
    {
     "name": "stderr",
     "output_type": "stream",
     "text": [
      "c:\\Users\\shortallb\\AppData\\Local\\Continuum\\anaconda3\\lib\\site-packages\\sklearn\\utils\\validation.py:724: DataConversionWarning: A column-vector y was passed when a 1d array was expected. Please change the shape of y to (n_samples, ), for example using ravel().\n",
      "  y = column_or_1d(y, warn=True)\n",
      "c:\\Users\\shortallb\\AppData\\Local\\Continuum\\anaconda3\\lib\\site-packages\\sklearn\\svm\\base.py:193: FutureWarning: The default value of gamma will change from 'auto' to 'scale' in version 0.22 to account better for unscaled features. Set gamma explicitly to 'auto' or 'scale' to avoid this warning.\n",
      "  \"avoid this warning.\", FutureWarning)\n"
     ]
    }
   ],
   "source": [
    "from sklearn import svm\n",
    "#SVM implementation\n",
    "model1 = svm.SVC()\n",
    "model1.fit(X_train, Y_train)\n",
    "\n",
    "y_pred1 = model1.predict(X_test)\n",
    "cm = sklearn.metrics.confusion_matrix(Y_test, y_pred1)\n",
    "print(\"Accuracy: \", sklearn.metrics.accuracy_score(Y_test, y_pred1)*100, \"%\")\n",
    "print(\"Confusion matrix:\\n\", cm)"
   ]
  },
  {
   "cell_type": "code",
   "execution_count": 27,
   "metadata": {},
   "outputs": [
    {
     "name": "stdout",
     "output_type": "stream",
     "text": [
      "Accuracy:  100.0 %\n",
      "Confusion matrix:\n",
      " [[166   0]\n",
      " [  0 374]]\n"
     ]
    },
    {
     "name": "stderr",
     "output_type": "stream",
     "text": [
      "c:\\Users\\shortallb\\AppData\\Local\\Continuum\\anaconda3\\lib\\site-packages\\ipykernel_launcher.py:4: DataConversionWarning: A column-vector y was passed when a 1d array was expected. Please change the shape of y to (n_samples, ), for example using ravel().\n",
      "  after removing the cwd from sys.path.\n",
      "c:\\Users\\shortallb\\AppData\\Local\\Continuum\\anaconda3\\lib\\site-packages\\sklearn\\neighbors\\base.py:908: DeprecationWarning: `np.int` is a deprecated alias for the builtin `int`. To silence this warning, use `int` by itself. Doing this will not modify any behavior and is safe. When replacing `np.int`, you may wish to use e.g. `np.int64` or `np.int32` to specify the precision. If you wish to review your current use, check the release note link for additional information.\n",
      "Deprecated in NumPy 1.20; for more details and guidance: https://numpy.org/devdocs/release/1.20.0-notes.html#deprecations\n",
      "  self._y = np.empty(y.shape, dtype=np.int)\n"
     ]
    }
   ],
   "source": [
    "from sklearn import neighbors\n",
    "\n",
    "model2 = neighbors.KNeighborsClassifier(n_neighbors=7)\n",
    "model2.fit(X_train, Y_train)\n",
    "\n",
    "y_pred2 = model2.predict(X_test)\n",
    "cm = sklearn.metrics.confusion_matrix(Y_test, y_pred2)\n",
    "print(\"Accuracy: \", sklearn.metrics.accuracy_score(Y_test, y_pred2)*100, \"%\")\n",
    "print(\"Confusion matrix:\\n\", cm)"
   ]
  }
 ],
 "metadata": {
  "kernelspec": {
   "display_name": "base",
   "language": "python",
   "name": "python3"
  },
  "language_info": {
   "codemirror_mode": {
    "name": "ipython",
    "version": 3
   },
   "file_extension": ".py",
   "mimetype": "text/x-python",
   "name": "python",
   "nbconvert_exporter": "python",
   "pygments_lexer": "ipython3",
   "version": "3.7.4"
  },
  "orig_nbformat": 4
 },
 "nbformat": 4,
 "nbformat_minor": 2
}
